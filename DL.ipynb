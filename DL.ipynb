{
 "cells": [
  {
   "cell_type": "code",
   "execution_count": 6,
   "metadata": {},
   "outputs": [],
   "source": [
    "import numpy as np\n",
    "import tensorflow as tf\n",
    "from tensorflow.keras.layers import Dense \n",
    "from tensorflow.keras.optimizers import  Adam\n",
    "\n",
    "\n",
    "x = np.array([[200.0 , 17.0]])\n",
    "layer_1 = Dense(units = 3 , activation = 'sigmoid')\n",
    "a1 = layer_1(x)"
   ]
  },
  {
   "cell_type": "code",
   "execution_count": 9,
   "metadata": {},
   "outputs": [],
   "source": [
    "import tensorflow as tf \n",
    "from tensorflow.keras import Sequential \n",
    "\n",
    "model = Sequential ([\n",
    "    Dense(units  = 25 , activation = 'relu')\n",
    "    Dense(units = 15 , activation  = 'relu')\n",
    "    Dense(units = 10 , activation  = 'linear')\n",
    "])\n",
    "\n",
    "\n",
    "# The loss function \n",
    "from tensorflow.keras.losses import SparseCategoricalCrossentropy\n",
    "model.compile(..., loss=SparseCategoricalCrossentropy)\n",
    "model.fit(X , Y , epochs = 100)\n",
    "logits  = model(X)\n",
    "f_x = tf.nn.softmax(logits)"
   ]
  },
  {
   "cell_type": "code",
   "execution_count": null,
   "metadata": {},
   "outputs": [],
   "source": []
  }
 ],
 "metadata": {
  "kernelspec": {
   "display_name": "kidney",
   "language": "python",
   "name": "python3"
  },
  "language_info": {
   "codemirror_mode": {
    "name": "ipython",
    "version": 3
   },
   "file_extension": ".py",
   "mimetype": "text/x-python",
   "name": "python",
   "nbconvert_exporter": "python",
   "pygments_lexer": "ipython3",
   "version": "3.8.18"
  }
 },
 "nbformat": 4,
 "nbformat_minor": 2
}
