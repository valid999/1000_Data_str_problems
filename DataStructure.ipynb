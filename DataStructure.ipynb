{
 "cells": [
  {
   "cell_type": "markdown",
   "metadata": {},
   "source": [
    "# Linear Search"
   ]
  },
  {
   "cell_type": "code",
   "execution_count": 10,
   "metadata": {},
   "outputs": [
    {
     "name": "stdout",
     "output_type": "stream",
     "text": [
      "The target found at index   5\n"
     ]
    }
   ],
   "source": [
    "def linear_search(values , Target):\n",
    "    \n",
    "    for i in range(0 , len(values)):\n",
    "        if values[i] == Target:\n",
    "            return i \n",
    "    return None \n",
    "\n",
    "\n",
    "def verify(Result):\n",
    "    \n",
    "    if Result is not None:\n",
    "        print(\"The target found at index \", Result)\n",
    "    else: \n",
    "        print(\"The value does not exist\")\n",
    "\n",
    "list = [111,2,3,4,5,6,7,8,9,10,11,12,13,14]\n",
    "target = 6\n",
    "result = linear_search(list , target)\n",
    "verify(result)"
   ]
  },
  {
   "cell_type": "markdown",
   "metadata": {},
   "source": [
    "# Binary Search"
   ]
  },
  {
   "cell_type": "code",
   "execution_count": 23,
   "metadata": {},
   "outputs": [
    {
     "data": {
      "text/plain": [
       "12"
      ]
     },
     "execution_count": 23,
     "metadata": {},
     "output_type": "execute_result"
    }
   ],
   "source": [
    "def binary_search(list , target):\n",
    "    first = 0 \n",
    "    last = len(list) - 1\n",
    "    \n",
    "    while first <= last:\n",
    "        midpoint = (first + last) // 2\n",
    "        \n",
    "        if list[midpoint] == target:\n",
    "            return midpoint \n",
    "        elif  list[midpoint] < target:\n",
    "            first = midpoint + 1 \n",
    "        else: \n",
    "            last = midpoint - 1 \n",
    "    \n",
    "    return None \n",
    "\n",
    "list = [111,2,3,4,5,6,7,8,9,10,11,12,13,14]\n",
    "list.sort()\n",
    "binary_search(list , 14)"
   ]
  },
  {
   "cell_type": "markdown",
   "metadata": {},
   "source": [
    "# Recursive Binary Search"
   ]
  },
  {
   "cell_type": "code",
   "execution_count": 34,
   "metadata": {},
   "outputs": [
    {
     "data": {
      "text/plain": [
       "True"
      ]
     },
     "execution_count": 34,
     "metadata": {},
     "output_type": "execute_result"
    }
   ],
   "source": [
    "# Recursion the method used  to call her self for more then one time\n",
    "def recursive_binary_search(list , target):\n",
    "    \n",
    "    if len(list) == None: \n",
    "        return False \n",
    "    \n",
    "    if target not in list: \n",
    "        return False \n",
    "    \n",
    "    if list == target: \n",
    "        print(\"d\")\n",
    "        return True\n",
    "    \n",
    "    else: \n",
    "         midpoint = (len(list)) // 2 \n",
    "        \n",
    "        if list[midpoint] == target:\n",
    "            return True \n",
    "        else: \n",
    "            if list[midpoint] < target: \n",
    "                return recursive_binary_search(list[midpoint+1:] , target)\n",
    "            else: \n",
    "                return recursive_binary_search(list[:midpoint] , target)\n",
    "\n",
    "empthy = [1]\n",
    "recursive_binary_search(empthy , 1)"
   ]
  },
  {
   "cell_type": "markdown",
   "metadata": {},
   "source": [
    "# Iterative version of Binary Search"
   ]
  },
  {
   "cell_type": "code",
   "execution_count": null,
   "metadata": {},
   "outputs": [],
   "source": [
    "new_list = [1,2,3,4]\n",
    "result = new_list[0]\n",
    "\n",
    "if 1 in new_list: print(True)\n",
    "\n",
    "for n in new_list: \n",
    "    if n == 1:\n",
    "        print(True)\n",
    "         \n",
    "        break"
   ]
  },
  {
   "cell_type": "markdown",
   "metadata": {},
   "source": [
    "# Linked list \n",
    "\n",
    "**first node in the l1ist called the head and the last called tail**"
   ]
  },
  {
   "cell_type": "code",
   "execution_count": 37,
   "metadata": {},
   "outputs": [
    {
     "data": {
      "text/plain": [
       "<Node data: 20>"
      ]
     },
     "execution_count": 37,
     "metadata": {},
     "output_type": "execute_result"
    }
   ],
   "source": [
    "class Node: \n",
    "    \"\"\"\n",
    "    An object for sorting a single node of a linked list.\n",
    "    Models two attributes - data and the link to the next node in the list\n",
    "    \"\"\"\n",
    "    \n",
    "    data = None \n",
    "    next_node = None \n",
    "    \n",
    "    def __init__(self , data):\n",
    "        self.data = data \n",
    "        \n",
    "    def __repr__(self): # __repr__ returns a printable representation of an object in python\n",
    "        return \"<Node data: %s>\" % self.data\n",
    "\n",
    "class LinkedList:\n",
    "    \"\"\"\n",
    "    Singly Linked list\n",
    "    \"\"\"\n",
    "    \n",
    "    def __init__(self):\n",
    "        self.head = None\n",
    "        \n",
    "    \n",
    "    def is_empty(self):\n",
    "        return self.head == None\n",
    "    \n",
    "    def size(self):\n",
    "        current = self.head\n",
    "        count = 0 \n",
    "        \n",
    "        \n",
    "        while current: \n",
    "            count = count + 1\n",
    "            current = current.next_node\n",
    "\n",
    "\n",
    "N1 = Node(10)\n",
    "N1\n",
    "N2 = Node(20)\n",
    "N1.next_node = N2 \n",
    "N1.next_node"
   ]
  },
  {
   "cell_type": "code",
   "execution_count": null,
   "metadata": {},
   "outputs": [],
   "source": [
    "nodes  = []\n",
    "current = self.head \n",
    "while current: \n",
    "    if current is self.head:\n",
    "        nodes.append(\"[Head: %s]\" % current.data)\n",
    "    elif current_node is None:\n",
    "        nodes.append(\"[Tail: %s]\" % current.data)\n",
    "    else: \" -> \".join(nodes)"
   ]
  },
  {
   "cell_type": "markdown",
   "metadata": {},
   "source": []
  }
 ],
 "metadata": {
  "kernelspec": {
   "display_name": "base",
   "language": "python",
   "name": "python3"
  },
  "language_info": {
   "codemirror_mode": {
    "name": "ipython",
    "version": 3
   },
   "file_extension": ".py",
   "mimetype": "text/x-python",
   "name": "python",
   "nbconvert_exporter": "python",
   "pygments_lexer": "ipython3",
   "version": "3.11.5"
  }
 },
 "nbformat": 4,
 "nbformat_minor": 2
}
