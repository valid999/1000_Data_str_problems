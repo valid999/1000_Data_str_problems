{
 "cells": [
  {
   "cell_type": "code",
   "execution_count": null,
   "metadata": {},
   "outputs": [],
   "source": [
    "# 121. Best Time to Buy and Sell Stock \n",
    "# You are given an array prices where prices[i] is the price of a given stock on the ith day.\n",
    "# you want to maximize your profit by choosing a single day to buy one stock and choosing a different day in the future to sell that. \n",
    "\n",
    "# Return the Maximum profit you can achieve from this transaction. \n",
    "# IF you cannot achieve any profit, return 0. \n",
    "\n",
    "class Solution: \n",
    "    def maxProfit(self, prices) -> int: \n",
    "        max_profit = float('-inf')\n",
    "        for i in range(len(prices)): \n",
    "            for j in range(i+1, len(prices)): \n",
    "                profit = prices[j] - prices[i]\n",
    "                \n",
    "                if profit > 0: \n",
    "                    max_profit  = max(max_profit, profit)\n",
    "        \n",
    "        return max_profit if max_profit > float('inf') else 0 \n",
    "    # Time: O(N^2)"
   ]
  },
  {
   "cell_type": "code",
   "execution_count": 2,
   "metadata": {},
   "outputs": [],
   "source": [
    "# Another solutions\n",
    "\n",
    "class Solution: \n",
    "    def maxProfit(self, prices):\n",
    "        # Time: O(n)\n",
    "        # Space: O(1)\n",
    "        \n",
    "        min_price  = float('inf')\n",
    "        max_profit = 0 \n",
    "        \n",
    "        for price in prices: \n",
    "            if price < min_price: \n",
    "                min_price  = price \n",
    "            \n",
    "            profit = price - min_price\n",
    "            \n",
    "            if profit > max_profit: \n",
    "                max_profit = profit\n",
    "        return max_profit"
   ]
  }
 ],
 "metadata": {
  "kernelspec": {
   "display_name": "base",
   "language": "python",
   "name": "python3"
  },
  "language_info": {
   "codemirror_mode": {
    "name": "ipython",
    "version": 3
   },
   "file_extension": ".py",
   "mimetype": "text/x-python",
   "name": "python",
   "nbconvert_exporter": "python",
   "pygments_lexer": "ipython3",
   "version": "3.11.5"
  }
 },
 "nbformat": 4,
 "nbformat_minor": 2
}
