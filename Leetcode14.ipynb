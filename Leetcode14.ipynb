{
 "cells": [
  {
   "cell_type": "code",
   "execution_count": null,
   "metadata": {},
   "outputs": [],
   "source": [
    "# 14 longest Common Prefix \n",
    "\n",
    "# Write a function to find the longest common prefix string amongest an array of strings. \n",
    "# If there is no common prefix, return an empty string \"\""
   ]
  },
  {
   "cell_type": "code",
   "execution_count": 6,
   "metadata": {},
   "outputs": [],
   "source": [
    "class Solution: \n",
    "    def longestCommonPrefix(self, strs): \n",
    "        min_lenght  = float('inf') # To initialize the variable to positive infinity\n",
    "        \n",
    "        \n",
    "        \n",
    "        for s in strs: \n",
    "            if len(s) < min_length: \n",
    "                min_length = len(s)\n",
    "            \n",
    "        i = 0 \n",
    "        while i < min_length: \n",
    "            for s in strs: \n",
    "                if s[i] != strs[0][i]: \n",
    "                    return s[:i]\n",
    "            i += 1 \n",
    "        return s[:i]\n",
    "        # Time complexity is O(n * m)\n",
    "        # n is the number of strings \n",
    "        # m is the minimum length of the strings\n",
    "        # Space complexity: O(1)"
   ]
  },
  {
   "cell_type": "code",
   "execution_count": 5,
   "metadata": {},
   "outputs": [
    {
     "name": "stdout",
     "output_type": "stream",
     "text": [
      "flo\n"
     ]
    }
   ],
   "source": [
    "def longestCommonPrefix(strs): \n",
    "    if not strs: # Check if the input list is empty \n",
    "        return \"\"\n",
    "    \n",
    "    # Iterate over the characters of the first string \n",
    "    for i in range(len(strs[0])): \n",
    "        char  = strs[0][i]\n",
    "        # Compare the character with the corresponding position in all strings \n",
    "        for s in strs[1:]: \n",
    "            if i >= len(s) or s[i] != char:  # Mismatch or end of a string \n",
    "                return strs[0][:i]\n",
    "    \n",
    "    return strs[0]\n",
    "strs = [\"flower\", \"flow\", \"floight\"]\n",
    "print(longestCommonPrefix(strs))  # Output: \"fl\""
   ]
  }
 ],
 "metadata": {
  "kernelspec": {
   "display_name": "base",
   "language": "python",
   "name": "python3"
  },
  "language_info": {
   "codemirror_mode": {
    "name": "ipython",
    "version": 3
   },
   "file_extension": ".py",
   "mimetype": "text/x-python",
   "name": "python",
   "nbconvert_exporter": "python",
   "pygments_lexer": "ipython3",
   "version": "3.11.5"
  }
 },
 "nbformat": 4,
 "nbformat_minor": 2
}
