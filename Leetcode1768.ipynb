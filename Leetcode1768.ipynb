{
 "cells": [
  {
   "cell_type": "code",
   "execution_count": null,
   "metadata": {},
   "outputs": [],
   "source": [
    "# # 1768: Merge Strings Alternately \n",
    "# You are given two strings word1 and word2. Merge the strings by adding letters in \n",
    "# alternating order, strating with word1. If a string is longer than the other, append the additional letters onto the end of the merged string. \n",
    "\n",
    "# Return the merged string. "
   ]
  },
  {
   "cell_type": "code",
   "execution_count": 5,
   "metadata": {},
   "outputs": [
    {
     "name": "stdout",
     "output_type": "stream",
     "text": [
      "wGaolmeaead\n"
     ]
    }
   ],
   "source": [
    "class Solution:\n",
    "    def mergestringAlternately(self, word1: str, word2: str): \n",
    "        \n",
    "        A, B  = len(word1) , len(word2)\n",
    "        a, b = 0, 0\n",
    "        s = []\n",
    "        \n",
    "        word = 1 \n",
    "        while a < A and b < B: \n",
    "            if word == 1: \n",
    "                s.append(word1[a])\n",
    "                a += 1 \n",
    "                word = 2 \n",
    "            else: \n",
    "                s.append(word2[b])\n",
    "                b += 1 \n",
    "                word = 1 \n",
    "        \n",
    "        while a < A: \n",
    "            s.append(word1[a])\n",
    "            a += 1 \n",
    "        \n",
    "        while b < B: \n",
    "            s.append(word2[b])\n",
    "            b += 1 \n",
    "        \n",
    "        return ''.join(s) # Time: O(A + B), Space compexxity O(A + B)\n",
    "\n",
    "\n",
    "\n",
    "word1 = \"waleed\"\n",
    "word2 = \"Gomaa\"\n",
    "\n",
    "main_class =  Solution()\n",
    "Answer = main_class.mergestringAlternately(word1, word2)\n",
    "print(Answer)\n"
   ]
  },
  {
   "cell_type": "code",
   "execution_count": null,
   "metadata": {},
   "outputs": [],
   "source": []
  }
 ],
 "metadata": {
  "kernelspec": {
   "display_name": "base",
   "language": "python",
   "name": "python3"
  },
  "language_info": {
   "codemirror_mode": {
    "name": "ipython",
    "version": 3
   },
   "file_extension": ".py",
   "mimetype": "text/x-python",
   "name": "python",
   "nbconvert_exporter": "python",
   "pygments_lexer": "ipython3",
   "version": "3.11.5"
  }
 },
 "nbformat": 4,
 "nbformat_minor": 2
}
