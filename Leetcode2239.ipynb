{
 "cells": [
  {
   "cell_type": "code",
   "execution_count": null,
   "metadata": {},
   "outputs": [],
   "source": [
    "# find the closest Number to zero \n",
    "\n",
    "\n",
    "# Given an integer array nums, of size n, return the number with the value closest\n",
    "# to 0 in nums. If there are multipl,e answers, return the number with largest value. \n",
    "\n",
    "\n"
   ]
  },
  {
   "cell_type": "code",
   "execution_count": 1,
   "metadata": {},
   "outputs": [
    {
     "data": {
      "text/plain": [
       "1"
      ]
     },
     "execution_count": 1,
     "metadata": {},
     "output_type": "execute_result"
    }
   ],
   "source": [
    "class Solution: \n",
    "    def findCLosestNumber(self, nums) -> int:\n",
    "        closest = nums[0]\n",
    "        for x in nums: \n",
    "            if abs(x) < abs(closest): \n",
    "                closest = x\n",
    "                \n",
    "        if closest < 0 and abs(closest) in nums: \n",
    "            return abs(closest)\n",
    "        \n",
    "        else: \n",
    "            return closest\n",
    "        \n",
    "        # Time: O(n)\n",
    "        # Space: O(1)\n",
    "\n",
    "nums  = [1,2,3,-2]\n",
    "answer = Solution()\n",
    "answer.findCLosestNumber(nums)"
   ]
  },
  {
   "cell_type": "code",
   "execution_count": null,
   "metadata": {},
   "outputs": [],
   "source": []
  }
 ],
 "metadata": {
  "kernelspec": {
   "display_name": "base",
   "language": "python",
   "name": "python3"
  },
  "language_info": {
   "codemirror_mode": {
    "name": "ipython",
    "version": 3
   },
   "file_extension": ".py",
   "mimetype": "text/x-python",
   "name": "python",
   "nbconvert_exporter": "python",
   "pygments_lexer": "ipython3",
   "version": "3.11.5"
  }
 },
 "nbformat": 4,
 "nbformat_minor": 2
}
