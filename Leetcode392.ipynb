{
 "cells": [
  {
   "cell_type": "code",
   "execution_count": null,
   "metadata": {},
   "outputs": [],
   "source": [
    "# 392 Is subsequence \n",
    "\n",
    "# Given two strings s and t return true if s is a subsequence of t or false otherwose. \n",
    "\n",
    "# A subsequence of a string is a new string that is formed from the orginal string by deleting some can be none of the \n",
    "# Without distrubing the reletive positions of the remaining characters (\"ACE\" is a subsequence of \"abcde\" while 'aec' is not).\n",
    "\n",
    "\n",
    "\n",
    "\n",
    "\n",
    "class Solution:\n",
    "    def IsSubsequence(self, s, t):\n",
    "        \n",
    "        S = len(s)\n",
    "        T = len(t)\n",
    "        \n",
    "        if s == '': return True \n",
    "        if S > T: return False \n",
    "        \n",
    "        j = 0 \n",
    "        for i in range(T): \n",
    "            if t[i] == s[j]: \n",
    "                if j == S-1: \n",
    "                    return True \n",
    "                j += 1\n",
    "                \n",
    "        return False \n",
    "        # Time: O(T)\n",
    "        # Space: O(1)"
   ]
  },
  {
   "cell_type": "code",
   "execution_count": 7,
   "metadata": {},
   "outputs": [
    {
     "name": "stdout",
     "output_type": "stream",
     "text": [
      "True\n"
     ]
    }
   ],
   "source": [
    "# Another Approach\n",
    "\n",
    "# We can solve this problem using a two-pointer approach. \n",
    "# 1 - use a pointer for s(i and a pointer for t(j))\n",
    "# 2 - Traverse both strings: \n",
    "#  if the charaters s[i] and t[j] match, move both pointers forward. \n",
    "#  if they do not match, move only the pointer for t. \n",
    "# if the pointer s(i) reaches the end of the string, themn s is a subsequence of t. \n",
    "\n",
    "# Solution in Python: \n",
    "\n",
    "def isSubsequence(s: str, t: str) -> bool: \n",
    "    i, j = 0, 0 # pointers for s and t \n",
    "    while i < len(s) and j < len(t): \n",
    "        if s[i] == t[j]: \n",
    "            i += 1 # Move the pointer in s if characters match  \n",
    "        j += 1  # Always move the pointer in t \n",
    "    return i == len(s) # If we have traversed alll of s, it is a subsequence. \n",
    "\n",
    "\n",
    "s = \"abc\"\n",
    "t = \"ahbcgdc\"\n",
    "print(isSubsequence(s, t))  # Output: False\n"
   ]
  }
 ],
 "metadata": {
  "kernelspec": {
   "display_name": "base",
   "language": "python",
   "name": "python3"
  },
  "language_info": {
   "codemirror_mode": {
    "name": "ipython",
    "version": 3
   },
   "file_extension": ".py",
   "mimetype": "text/x-python",
   "name": "python",
   "nbconvert_exporter": "python",
   "pygments_lexer": "ipython3",
   "version": "3.11.5"
  }
 },
 "nbformat": 4,
 "nbformat_minor": 2
}
