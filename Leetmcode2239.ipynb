{
 "cells": [
  {
   "cell_type": "code",
   "execution_count": null,
   "metadata": {},
   "outputs": [],
   "source": [
    "#  Find Closest number to zero - leetcode 2239 Arrays & strings(python)\n",
    "# 2239. Find the CLosest number to zero \n",
    "\n",
    "def findClosestNumber(nums): \n",
    "    closest = float('inf') # Initialize closest to a very large number\n",
    "    \n",
    "    for num in nums: \n",
    "    \n",
    "    # Compare based on absolute \n",
    "        if abs(num) < abs(closest): \n",
    "            closest = num \n",
    "        \n",
    "        # Tie-breaking: choose the larger number if abs(num) == abs(closest)\n",
    "        elif abs(num) ==(closest) and num > closest: \n",
    "            closest = num \n",
    "    \n",
    "    return closest"
   ]
  }
 ],
 "metadata": {
  "kernelspec": {
   "display_name": "Yolo_object",
   "language": "python",
   "name": "python3"
  },
  "language_info": {
   "name": "python",
   "version": "3.9.18"
  }
 },
 "nbformat": 4,
 "nbformat_minor": 2
}
