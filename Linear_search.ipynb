{
 "cells": [
  {
   "cell_type": "code",
   "execution_count": 6,
   "metadata": {},
   "outputs": [],
   "source": [
    "def linear_search(list , target):\n",
    "    \n",
    "    \"\"\"\n",
    "    Returns the index  position  of the target if found, else returns None\n",
    "    \"\"\"\n",
    "    \n",
    "    for i in  range(0 , len(list)):\n",
    "        if list[i] == target: \n",
    "            return i \n",
    "    return None "
   ]
  },
  {
   "cell_type": "code",
   "execution_count": 7,
   "metadata": {},
   "outputs": [],
   "source": [
    "def verify(index): \n",
    "    if index is not None: \n",
    "        if index is not None: \n",
    "            print(\"Target found at index:\", index)\n",
    "        else: \n",
    "            print(\"Target not found in list\")"
   ]
  },
  {
   "cell_type": "code",
   "execution_count": 8,
   "metadata": {},
   "outputs": [
    {
     "name": "stdout",
     "output_type": "stream",
     "text": [
      "Target found at index: 3\n"
     ]
    }
   ],
   "source": [
    "values = [1 , 2 , 3 , 4 , 5 , 6 , 7]\n",
    "verify(linear_search(values , 4))"
   ]
  },
  {
   "cell_type": "code",
   "execution_count": 16,
   "metadata": {},
   "outputs": [
    {
     "data": {
      "text/plain": [
       "0"
      ]
     },
     "execution_count": 16,
     "metadata": {},
     "output_type": "execute_result"
    }
   ],
   "source": [
    "def binary_seach(list , target):\n",
    "    first = 0 \n",
    "    last = len(list) - 1 \n",
    "    \n",
    "    while first <= last: \n",
    "        midpoint = (first + last) // 2\n",
    "        if list[midpoint] == target: \n",
    "            return midpoint\n",
    "        \n",
    "        elif list[midpoint] < target:\n",
    "            \n",
    "            first = midpoint + 1\n",
    "        else: \n",
    "            last = midpoint - 1\n",
    "    return None\n",
    "\n",
    "\n",
    "binary_seach(values , 1)"
   ]
  },
  {
   "cell_type": "code",
   "execution_count": null,
   "metadata": {},
   "outputs": [],
   "source": []
  }
 ],
 "metadata": {
  "kernelspec": {
   "display_name": "kidney",
   "language": "python",
   "name": "python3"
  },
  "language_info": {
   "codemirror_mode": {
    "name": "ipython",
    "version": 3
   },
   "file_extension": ".py",
   "mimetype": "text/x-python",
   "name": "python",
   "nbconvert_exporter": "python",
   "pygments_lexer": "ipython3",
   "version": "3.8.18"
  }
 },
 "nbformat": 4,
 "nbformat_minor": 2
}
