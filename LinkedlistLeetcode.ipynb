{
 "cells": [
  {
   "cell_type": "code",
   "execution_count": null,
   "metadata": {},
   "outputs": [],
   "source": [
    "# Create the listnode\n",
    "class ListNode: \n",
    "    def __init__(self, val):\n",
    "        self.val = val \n",
    "        self.next = next\n",
    "\n",
    "# Leetcode 2807 - linked list(Python)\n",
    "\n",
    "# Insert Greatest common division in linked list\n",
    "import math\n",
    "class Solution: \n",
    "    def insertGreatestcommondivisors(self, head): \n",
    "        prev = head \n",
    "        cur = head.next\n",
    "        \n",
    "        while cur: \n",
    "            gcd = math.gcd(cur.val, prev.val)\n",
    "            g = ListNode(gcd)\n",
    "            prev.next = g\n",
    "            g.next = cur\n",
    "            prev = cur \n",
    "            cur = cur.next \n",
    "        return head"
   ]
  },
  {
   "cell_type": "code",
   "execution_count": null,
   "metadata": {},
   "outputs": [],
   "source": [
    "class NodeList: \n",
    "    def __init__(self, val): \n",
    "        self.val = val \n",
    "        self.next = next \n",
    "#  Leetcode 19 Linked lists (python) \n",
    "\n",
    "class Solution: \n",
    "    def removeNthFromEnd(self, head, n): \n",
    "        dummy = NodeList()\n",
    "        dummy.next = head \n",
    "        behind  = ahead  = dummy\n",
    "        \n",
    "        \n",
    "        for _ in range(n+1): \n",
    "            ahead = ahead.next \n",
    "        \n",
    "        while ahead: \n",
    "            behind = behind.next \n",
    "            ahead = ahead.next \n",
    "        \n",
    "        ahead.next  = ahead.next.next\n",
    "        \n",
    "        return dummy.next\n",
    "        \n",
    "        # Time: O(M) \n",
    "        # Space: O(1)"
   ]
  }
 ],
 "metadata": {
  "kernelspec": {
   "display_name": "Yolo_object",
   "language": "python",
   "name": "python3"
  },
  "language_info": {
   "codemirror_mode": {
    "name": "ipython",
    "version": 3
   },
   "file_extension": ".py",
   "mimetype": "text/x-python",
   "name": "python",
   "nbconvert_exporter": "python",
   "pygments_lexer": "ipython3",
   "version": "3.9.18"
  }
 },
 "nbformat": 4,
 "nbformat_minor": 2
}
