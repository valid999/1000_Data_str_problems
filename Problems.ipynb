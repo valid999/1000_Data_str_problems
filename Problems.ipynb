{
 "cells": [
  {
   "cell_type": "code",
   "execution_count": 4,
   "metadata": {},
   "outputs": [
    {
     "data": {
      "text/plain": [
       "[0, 1]"
      ]
     },
     "execution_count": 4,
     "metadata": {},
     "output_type": "execute_result"
    }
   ],
   "source": [
    "# Two Sum Leetcode 1 - HashMap - Python \n",
    "\n",
    "\n",
    "nums  = [2 , 7 , 11 , 15]\n",
    "target = 9\n",
    "\n",
    "\n",
    "\n",
    "class Solution: \n",
    "    def twoSum(nums , target):\n",
    "        prevMap  = {}\n",
    "        \n",
    "        for i  , n in enumerate(nums):\n",
    "            diff = target - n \n",
    "            if diff in prevMap: \n",
    "                return  [prevMap[diff] , i]\n",
    "            prevMap[n] = i \n",
    "        return \n",
    "\n",
    "c = Solution\n",
    "c.twoSum(nums , target)"
   ]
  },
  {
   "cell_type": "code",
   "execution_count": 10,
   "metadata": {},
   "outputs": [
    {
     "name": "stdout",
     "output_type": "stream",
     "text": [
      "None\n"
     ]
    }
   ],
   "source": [
    "def two_sum(nums , target):\n",
    "    # Iterate over each elemnt in the list \n",
    "    for i in range(len(nums)):\n",
    "        for j in range(i + 1 , len(nums)):\n",
    "            if nums[i] + nums[j] == target: \n",
    "                return [i , j]\n",
    "\n",
    "\n",
    "# Example usage \n",
    "nums = [2 , 7 , 11 , 15]\n",
    "target = 15\n",
    "result = two_sum(nums , target)\n",
    "print(result)"
   ]
  },
  {
   "cell_type": "code",
   "execution_count": 15,
   "metadata": {},
   "outputs": [
    {
     "data": {
      "text/plain": [
       "13"
      ]
     },
     "execution_count": 15,
     "metadata": {},
     "output_type": "execute_result"
    }
   ],
   "source": [
    "# Best time to Buy and sell stock \n",
    "\n",
    "\n",
    "class solution: \n",
    "    def maxProfit(self , prices):\n",
    "        l , r = 0 , 1 \n",
    "        maxP = 0 \n",
    "        while r < len(prices):\n",
    "            if prices[l]  < prices[r]:\n",
    "                profit  = prices[r]  -  prices[l]\n",
    "                maxP = max(maxP , profit)\n",
    "            \n",
    "            else: \n",
    "                l += 1 \n",
    "            \n",
    "            r += 1 \n",
    "        return maxP\n",
    "c = solution()\n",
    "c.maxProfit(nums)"
   ]
  },
  {
   "cell_type": "code",
   "execution_count": 16,
   "metadata": {},
   "outputs": [],
   "source": [
    "def maxProfit(prices):\n",
    "    max_profit = 0  \n",
    "    if not prices: \n",
    "        return 0 \n",
    "    \n",
    "    \n",
    "    min_price = prices[0]\n",
    "    max_profit = 0 \n",
    "    \n",
    "    for price in prices: \n",
    "        if price < min_price: \n",
    "            min_price = price \n",
    "        else: \n",
    "            max_profit  = max(max_profit - min_price)\n",
    "    \n",
    "    \n",
    "    return max_profit"
   ]
  },
  {
   "cell_type": "code",
   "execution_count": 20,
   "metadata": {},
   "outputs": [
    {
     "data": {
      "text/plain": [
       "14"
      ]
     },
     "execution_count": 20,
     "metadata": {},
     "output_type": "execute_result"
    }
   ],
   "source": [
    "# Dynamic programming \n",
    "\n",
    "def maxprofit(prices):\n",
    "    if not prices: \n",
    "        return 0 \n",
    "    \n",
    "    n = len(prices)\n",
    "    dp = [0]  * n \n",
    "    \n",
    "    for i in range(1 , n):\n",
    "        if prices[i]  > prices[i - 1]:\n",
    "            dp[i] = dp[i-1] + prices[i] - prices[i - 1]\n",
    "        else: \n",
    "            dp[i] = dp[i-1]\n",
    "    \n",
    "    return max(dp)\n",
    "\n",
    "nums = [7 , 1 , 11 , 15]\n",
    "\n",
    "v = maxprofit(nums)\n",
    "v"
   ]
  },
  {
   "cell_type": "code",
   "execution_count": 29,
   "metadata": {},
   "outputs": [],
   "source": [
    "nums = [1 ,2 ,3 ,4 ,4]\n",
    "class Solution: \n",
    "    def containDuplicate(nums):\n",
    "        hashset = set()\n",
    "        \n",
    "        for n in nums: \n",
    "            if n in hashset:  \n",
    "                return True \n",
    "            hashset.add(n)\n",
    "        return False"
   ]
  },
  {
   "cell_type": "code",
   "execution_count": 30,
   "metadata": {},
   "outputs": [
    {
     "data": {
      "text/plain": [
       "True"
      ]
     },
     "execution_count": 30,
     "metadata": {},
     "output_type": "execute_result"
    }
   ],
   "source": [
    "Solution.containDuplicate(nums)"
   ]
  },
  {
   "cell_type": "code",
   "execution_count": null,
   "metadata": {},
   "outputs": [],
   "source": []
  }
 ],
 "metadata": {
  "kernelspec": {
   "display_name": "Yolo_object",
   "language": "python",
   "name": "python3"
  },
  "language_info": {
   "codemirror_mode": {
    "name": "ipython",
    "version": 3
   },
   "file_extension": ".py",
   "mimetype": "text/x-python",
   "name": "python",
   "nbconvert_exporter": "python",
   "pygments_lexer": "ipython3",
   "version": "3.9.18"
  }
 },
 "nbformat": 4,
 "nbformat_minor": 2
}
