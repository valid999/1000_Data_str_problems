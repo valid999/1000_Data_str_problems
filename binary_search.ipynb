{
 "cells": [
  {
   "cell_type": "code",
   "execution_count": 1,
   "metadata": {},
   "outputs": [
    {
     "name": "stdout",
     "output_type": "stream",
     "text": [
      "Low: 0, High: 5, Mid: 2, Mid Value:  5\n",
      "Low: 3, High: 5, Mid: 4, Mid Value:  9\n",
      "Low: 3, High: 3, Mid: 3, Mid Value:  7\n",
      "Target 8 not found\n",
      "Low: 0,  High: 5,  Mid: 2, Mid value: 5, DIfferences: 3\n",
      "Low: 3,  High: 5,  Mid: 4, Mid value: 9, DIfferences: 1\n",
      "Low: 3,  High: 3,  Mid: 3, Mid value: 7, DIfferences: 1\n",
      "Closest value to 8 is 7 at index 3.\n"
     ]
    }
   ],
   "source": [
    "from typing import List , Optional , Tuple \n",
    "\n",
    "\n",
    "def binary_search(arr: List[int], target: int) -> Optional[int]:\n",
    "    \n",
    "    \"\"\"\n",
    "    Perform a binary search to find the atrget value in a sorted list.\n",
    "    \n",
    "    \n",
    "    :Param arr: A sorted list integrs. \n",
    "    :Param target: The integer value to search for .,\n",
    "    :Return: The index of the target value if found, otherwise None.\n",
    "    \"\"\"\n",
    "    \n",
    "    if not arr: \n",
    "        return None  # Return None if the list is empty \n",
    "    \n",
    "    \n",
    "    low: int = 0\n",
    "    high: int = len(arr) - 1 \n",
    "    \n",
    "    while low <= high: \n",
    "        mid: int = (low + high) // 2  # Intger division to find the moddle index \n",
    "        \n",
    "        \n",
    "        # Debug output to trace the algorithms progress \n",
    "        print(f\"Low: {low}, High: {high}, Mid: {mid}, Mid Value:  {arr[mid]}\")\n",
    "        \n",
    "        if arr[mid] == target: \n",
    "            return mid # Target found at index mid \n",
    "        \n",
    "        elif arr[mid] < target: \n",
    "            low = mid + 1   # Target is in the right half \n",
    "        \n",
    "        else: \n",
    "            high = mid - 1  # Target is in the left half \n",
    "    return None # Target not found \n",
    "\n",
    "\n",
    "\n",
    "def find_closest_value(arr: List[int], target:int)-> Tuple[Optional[int], Optional[int]]:\n",
    "    \n",
    "    \"\"\"\n",
    "    Find the closes value to the target in a sorted list. \n",
    "    \n",
    "    :Param arr: A soted list of integers. \n",
    "    :Param target: The intger value to find the closest value to.\n",
    "    :Return: A tuple containaing the index and the closest value.\n",
    "    \"\"\"\n",
    "    \n",
    "    if not arr: \n",
    "        return None, None # Return (None , None) if thelist is empty\n",
    "    \n",
    "    low: int  = 0 \n",
    "    high: int = len(arr) - 1 \n",
    "    closest_index: Optional[int] = None \n",
    "    closest_value: Optional[int] = None \n",
    "    min_diff: float  = float('inf')\n",
    "    \n",
    "    while low<= high: \n",
    "        mid: int = (low + high) // 2 \n",
    "        mid_value: int  = arr[mid]\n",
    "        diff: int  = abs(mid_value - target)\n",
    "        \n",
    "        # Debug output to trace the algorithm's progress \n",
    "        print(f\"Low: {low},  High: {high},  Mid: {mid}, Mid value: {mid_value}, DIfferences: {diff}\")\n",
    "        \n",
    "        \n",
    "        if diff < min_diff: \n",
    "            mid_diff  = diff \n",
    "            closest_index = mid \n",
    "            closest_value  = mid_value \n",
    "        \n",
    "        \n",
    "        if mid_value < target: \n",
    "            low = mid + 1 \n",
    "        elif mid_value > target: \n",
    "            high  = mid - 1\n",
    "        \n",
    "        else: \n",
    "            break  # Exact match found \n",
    "    \n",
    "    \n",
    "    return closest_index , closest_value\n",
    "\n",
    "\n",
    "\n",
    "#  Example usage: \n",
    "if __name__ == \"__main__\":\n",
    "    sorted_list = [1 , 3 , 5 , 7 , 9 , 11]\n",
    "    target = 8\n",
    "    \n",
    "    # Binary search example \n",
    "    index = binary_search(sorted_list , target)\n",
    "    if index is not None: \n",
    "        print(f\"Target {target} found at index {index}.\")\n",
    "    else: \n",
    "        print(f\"Target {target} not found\")\n",
    "    \n",
    "    \n",
    "    # Closest value example \n",
    "    index , closest  = find_closest_value(sorted_list , target)\n",
    "    if closest is not None: \n",
    "        print(f\"Closest value to {target} is {closest} at index {index}.\")\n",
    "    else: \n",
    "        print(f\"No closest value found\")"
   ]
  },
  {
   "cell_type": "code",
   "execution_count": 3,
   "metadata": {},
   "outputs": [],
   "source": [
    "# Binary Search \n",
    "\n",
    "def binary_search(arr , target):\n",
    "    low , high  = 0 , len(arr) - 1 \n",
    "    while low <= high: \n",
    "        mid = (low + high) // 2 \n",
    "        if arr[mid] == target: \n",
    "            return mid \n",
    "        elif arr[mid] < target:\n",
    "            low  = mid + 1 \n",
    "        else: \n",
    "            high  = mid  - 1 \n",
    "    return -1 "
   ]
  },
  {
   "cell_type": "code",
   "execution_count": 4,
   "metadata": {},
   "outputs": [],
   "source": [
    "# Depth first search (DFS)\n",
    "# Depth first search is a graph traversal algorithm that explores as far as possible along each branch before backtracking \n",
    "\n",
    "\n",
    "def dfs(graph , start , visited = None):\n",
    "    if visited is None: \n",
    "        visited = set()\n",
    "    \n",
    "    visited.add(start)\n",
    "    for neighbor in graph[start]:\n",
    "        if neighbor not in visited: \n",
    "            dfs(graph , neighbor , visited)\n",
    "    return visited "
   ]
  },
  {
   "cell_type": "code",
   "execution_count": null,
   "metadata": {},
   "outputs": [],
   "source": [
    "# Cleaner and easier to read \n",
    "\n",
    "marked  = [False] * G.size()\n",
    "def dfs(G , v):\n",
    "    visit(v)\n",
    "    marked[v] = True\n",
    "    for w in G.neighbors(v):\n",
    "        if not market[w]:\n",
    "            dfs(G , w)\n",
    "        "
   ]
  },
  {
   "cell_type": "code",
   "execution_count": 6,
   "metadata": {},
   "outputs": [
    {
     "ename": "NameError",
     "evalue": "name 'G' is not defined",
     "output_type": "error",
     "traceback": [
      "\u001b[1;31m---------------------------------------------------------------------------\u001b[0m",
      "\u001b[1;31mNameError\u001b[0m                                 Traceback (most recent call last)",
      "Cell \u001b[1;32mIn[6], line 3\u001b[0m\n\u001b[0;32m      1\u001b[0m \u001b[38;5;66;03m# MOre generalizable \u001b[39;00m\n\u001b[1;32m----> 3\u001b[0m marked  \u001b[38;5;241m=\u001b[39m [\u001b[38;5;28;01mFalse\u001b[39;00m] \u001b[38;5;241m*\u001b[39m \u001b[43mG\u001b[49m\u001b[38;5;241m.\u001b[39msize()\n\u001b[0;32m      4\u001b[0m \u001b[38;5;28;01mdef\u001b[39;00m \u001b[38;5;21mdfs_iter\u001b[39m(G , v):\n\u001b[0;32m      5\u001b[0m     stack  \u001b[38;5;241m=\u001b[39m [v]\n",
      "\u001b[1;31mNameError\u001b[0m: name 'G' is not defined"
     ]
    }
   ],
   "source": [
    "# MOre generalizable \n",
    "\n",
    "# marked  = [False] * G.size()\n",
    "def dfs_iter(G , v):\n",
    "    stack  = [v]\n",
    "    while len(stack) > o: \n",
    "        v = stack.pop()\n",
    "        if not marked[v]:\n",
    "            visit(v)\n",
    "            marked[v] = True \n",
    "            for w in G.neighbors(v):\n",
    "                if not market[w]:\n",
    "                    stack.append(w)"
   ]
  },
  {
   "cell_type": "code",
   "execution_count": 9,
   "metadata": {},
   "outputs": [
    {
     "name": "stdout",
     "output_type": "stream",
     "text": [
      "A B D E F C "
     ]
    },
    {
     "data": {
      "text/plain": [
       "{'A', 'B', 'C', 'D', 'E', 'F'}"
      ]
     },
     "execution_count": 9,
     "metadata": {},
     "output_type": "execute_result"
    }
   ],
   "source": [
    "# Dfs implemention using a graph represented by an adjancency list \n",
    "\n",
    "\n",
    "def dfs(graph , start , visited = None):\n",
    "    if visited is None:\n",
    "        visited = set()\n",
    "    \n",
    "    visited.add(start)\n",
    "    print(start , end= ' ')\n",
    "    \n",
    "    \n",
    "    for neighbor in graph[start]:\n",
    "        if neighbor not in visited: \n",
    "            dfs(graph , neighbor , visited)\n",
    "    \n",
    "    return visited \n",
    "\n",
    "# Example graph represented as an adjacency list \n",
    "graph = {\n",
    "    'A': ['B' , 'C'],\n",
    "    'B': ['D' , 'E'],\n",
    "    'C': ['F'],\n",
    "    'D': [],\n",
    "    'E': ['F'],\n",
    "    'F': []\n",
    "}\n",
    "\n",
    "\n",
    "# Perform DFS starting from node 'A'ArithmeticErrordfs(graph , 'A')\n",
    "dfs(graph , 'A')"
   ]
  },
  {
   "cell_type": "code",
   "execution_count": 12,
   "metadata": {},
   "outputs": [
    {
     "name": "stdout",
     "output_type": "stream",
     "text": [
      "1 2 4 5 3 "
     ]
    }
   ],
   "source": [
    "# Explantion \n",
    "# Graph Structure \n",
    "# DFS implemention for a binary tree using recursion \n",
    "\n",
    "\n",
    "class Node:\n",
    "    def __init__(self , value):\n",
    "        self.value = value \n",
    "        self.left =  None\n",
    "        self.right = None \n",
    "\n",
    "\n",
    "def dfs(root):\n",
    "    if root is None: \n",
    "        return \n",
    "    \n",
    "    print(root.value , end  = ' ')\n",
    "    dfs(root.left)\n",
    "    dfs(root.right)\n",
    "\n",
    "\n",
    "\n",
    "root= Node(1)\n",
    "root.left = Node(2)\n",
    "root.right = Node(3)\n",
    "root.left.left = Node(4)\n",
    "root.left.right = Node(5)\n",
    "\n",
    "# Start atr DFS Traversal \n",
    "dfs(root)"
   ]
  },
  {
   "cell_type": "code",
   "execution_count": 13,
   "metadata": {},
   "outputs": [
    {
     "name": "stdout",
     "output_type": "stream",
     "text": [
      "Path found: [(0, 0), (1, 0), (2, 0), (2, 1), (2, 2), (3, 2), (3, 3), (3, 4), (4, 4)]\n"
     ]
    }
   ],
   "source": [
    "# Example 3 DFS finding a path in a Maze \n",
    "\n",
    "# DFS to find a path in a maze represented by a grid \n",
    "\n",
    "def dfs_maze(maze , start , end , path = None):\n",
    "    if path is None: \n",
    "        path = []\n",
    "    \n",
    "    x , y  = start \n",
    "    path.append(start)\n",
    "    \n",
    "    if start == end: \n",
    "        return path \n",
    "    \n",
    "    # Possible moves: up , down , left , right \n",
    "    moves  = [(0 , 1) , (0 , -1) , (1 , 0) , (-1 , 0)]\n",
    "    \n",
    "    \n",
    "    for move in moves: \n",
    "        next_x , next_y = x  + move[0] , y + move[1]\n",
    "        next_pos  = (next_x , next_y)\n",
    "        \n",
    "        \n",
    "        if (0 <= next_x < len(maze)) and (0 <= next_y < len(maze[0])) and maze[next_x][next_y] == 0 and next_pos not in path:\n",
    "            result = dfs_maze(maze , next_pos , end , path)\n",
    "            if result is not None: \n",
    "                return result \n",
    "    \n",
    "    \n",
    "    path.pop()\n",
    "    return None\n",
    "\n",
    "# Maze represented as a 2D grid (0: free space , 1 : wall)\n",
    "\n",
    "\n",
    "maze = [\n",
    "    [0, 1, 0, 0, 0],\n",
    "    [0, 1, 0, 1, 0],\n",
    "    [0, 0, 0, 1, 0],\n",
    "    [1, 1, 0, 0, 0],\n",
    "    [0, 0, 0, 1, 0]\n",
    "]\n",
    "\n",
    "start = (0 , 0)\n",
    "end  = (4 , 4)\n",
    "\n",
    "# Find a path from start to end \n",
    "path = dfs_maze(maze , start , end)\n",
    "if path: \n",
    "    print(\"Path found:\" , path)\n",
    "else: \n",
    "    print(\"No path found\")"
   ]
  },
  {
   "cell_type": "code",
   "execution_count": 1,
   "metadata": {},
   "outputs": [
    {
     "ename": "IndentationError",
     "evalue": "expected an indented block (2651023508.py, line 2)",
     "output_type": "error",
     "traceback": [
      "\u001b[1;36m  Cell \u001b[1;32mIn[1], line 2\u001b[1;36m\u001b[0m\n\u001b[1;33m    for index , element in enumerate(number_list):\u001b[0m\n\u001b[1;37m                                                  ^\u001b[0m\n\u001b[1;31mIndentationError\u001b[0m\u001b[1;31m:\u001b[0m expected an indented block\n"
     ]
    }
   ],
   "source": [
    "def linear_search(number_list , number_to_find):\n",
    "    for index , element in enumerate(number_list):\n",
    "        if element == number_to_find:\n",
    "            return index\n",
    "    return -1 \n",
    "\n",
    "\n",
    "def binary_search(number_list , number_to_find):\n",
    "    left_index  = 0 \n",
    "    right_index = len(number_list) - 1\n",
    "    \n",
    "    \n",
    "    \n",
    "    \n",
    "    while left_index <= right_index: \n",
    "        mid_index = (left_index + right_index) // 2 \n",
    "        mid_number = number_list[mid_index]\n",
    "        \n",
    "        if mid_number == number_to_find: \n",
    "            return mid_index\n",
    "        \n",
    "        \n",
    "\n",
    "\n",
    "\n",
    "if __name__ == \"__main__\":\n",
    "    number_list = [12 , 15 , 17 , 21 , 24 , 45 , 67]\n",
    "    number_to_find = 45 \n",
    "    \n",
    "    index = linear_search(number_list , number_to_find)\n",
    "    print(f\"Number found at index {index} using linear search\")"
   ]
  },
  {
   "cell_type": "code",
   "execution_count": 2,
   "metadata": {},
   "outputs": [],
   "source": [
    "def locate_card(cards , query):\n",
    "    position = 0 \n",
    "    \n",
    "    while True:\n",
    "        if cards[position] == query: \n",
    "            return position \n",
    "    \n",
    "        \n",
    "        position += 1 \n",
    "        \n",
    "        if position == len(cards):\n",
    "            return -1 "
   ]
  },
  {
   "cell_type": "code",
   "execution_count": 6,
   "metadata": {},
   "outputs": [
    {
     "data": {
      "text/plain": [
       "4"
      ]
     },
     "execution_count": 6,
     "metadata": {},
     "output_type": "execute_result"
    }
   ],
   "source": [
    "data = [1 , 2  , 3 , 4 , 5 , 6]\n",
    "target = 5\n",
    "\n",
    "locate_card(data , target)"
   ]
  },
  {
   "cell_type": "code",
   "execution_count": 7,
   "metadata": {},
   "outputs": [],
   "source": [
    "def locate_card(cards , query):\n",
    "    position = 0 \n",
    "    \n",
    "    print(\"card:\" , cards)\n",
    "    print(\"query:\" , query)\n",
    "    \n",
    "    \n",
    "    while True: \n",
    "        \n",
    "        print(\"position\" , position)\n",
    "        \n",
    "        if cards[position] == query: \n",
    "            return position \n",
    "        position += 1\n",
    "        if position == len(cards): \n",
    "            return -1 "
   ]
  },
  {
   "cell_type": "code",
   "execution_count": 22,
   "metadata": {},
   "outputs": [],
   "source": [
    "def locate_card(cards , query):\n",
    "    \n",
    "    lo , hi = 0 , len(cards) - 1 \n",
    "    \n",
    "    while lo <= hi: \n",
    "        mid = (lo + hi) // 2 \n",
    "        mid_number = cards[mid]\n",
    "        \n",
    "        \n",
    "        print(\"lo\" , lo , 'hi' , hi , 'mid' , mid , 'mid_number' , mid_number)\n",
    "        \n",
    "        if mid_number == query: \n",
    "            return mid \n",
    "        elif mid_number < query: \n",
    "            hi = mid - 1 \n",
    "        elif  mid_number > query: \n",
    "            lo = mid + 1\n",
    "    \n",
    "    return -1 "
   ]
  },
  {
   "cell_type": "code",
   "execution_count": 28,
   "metadata": {},
   "outputs": [],
   "source": [
    "def binary_search(arr , target):\n",
    "    left , right = 0 , len(arr) - 1 \n",
    "    \n",
    "    while left <= right: \n",
    "        mid = (left + right) // 2\n",
    "        \n",
    "        if arr[mid] == target:\n",
    "            return mid \n",
    "        \n",
    "        elif arr[mid] > target:\n",
    "            right = mid - 1\n",
    "        elif arr[mid]  < target: \n",
    "            left = mid + 1\n",
    "    \n",
    "    \n",
    "    return  None\n",
    "    "
   ]
  },
  {
   "cell_type": "code",
   "execution_count": 31,
   "metadata": {},
   "outputs": [
    {
     "data": {
      "text/plain": [
       "5"
      ]
     },
     "execution_count": 31,
     "metadata": {},
     "output_type": "execute_result"
    }
   ],
   "source": [
    "data = [1 , 2  , 3 , 4 , 5 , 6]\n",
    "target = 6\n",
    "\n",
    "# locate_card(data , target)\n",
    "binary_search(data , target)"
   ]
  },
  {
   "cell_type": "code",
   "execution_count": 36,
   "metadata": {},
   "outputs": [],
   "source": [
    "def test_location(cards , query , mid):\n",
    "    mid_number = cards[mid]\n",
    "    print(\"mid\" , mid , \"mid number\" , mid_number)\n",
    "    if mid_number == query: \n",
    "        if mid -1 >= 0 and cards[mid - 1] == query:\n",
    "            return 'left'\n",
    "        else: \n",
    "            return \"found\"\n",
    "    \n",
    "    elif mid_number < query: \n",
    "        return \"left\"  # Increment left by the mid + 1 \n",
    "    else: \n",
    "        return \"right\"\n",
    "\n",
    "\n",
    "\n",
    "def locate_card(cards , query):\n",
    "    lo , hi = 0 , len(cards) - 1 \n",
    "    \n",
    "    while lo <= hi: \n",
    "        print(\"lo\" , lo , \"hi\" , hi)\n",
    "        mid = (lo + hi) // 2 \n",
    "        result = test_location(cards , query , mid)\n",
    "        \n",
    "        if result == 'found':\n",
    "            return mid\n",
    "        \n",
    "        elif result == 'left':\n",
    "            hi = mid - 1 \n",
    "        \n",
    "        elif result == 'right':\n",
    "            lo = mid + 1\n",
    "    \n",
    "    return -1 "
   ]
  },
  {
   "cell_type": "code",
   "execution_count": 37,
   "metadata": {},
   "outputs": [
    {
     "name": "stdout",
     "output_type": "stream",
     "text": [
      "lo 0 hi 5\n",
      "mid 2 mid number 3\n",
      "lo 0 hi 1\n",
      "mid 0 mid number 1\n"
     ]
    },
    {
     "data": {
      "text/plain": [
       "-1"
      ]
     },
     "execution_count": 37,
     "metadata": {},
     "output_type": "execute_result"
    }
   ],
   "source": [
    "locate_card(data , target)"
   ]
  },
  {
   "cell_type": "code",
   "execution_count": 38,
   "metadata": {},
   "outputs": [
    {
     "ename": "IndentationError",
     "evalue": "expected an indented block (3247988042.py, line 17)",
     "output_type": "error",
     "traceback": [
      "\u001b[1;36m  Cell \u001b[1;32mIn[38], line 17\u001b[1;36m\u001b[0m\n\u001b[1;33m    def condition(mid):\u001b[0m\n\u001b[1;37m                       ^\u001b[0m\n\u001b[1;31mIndentationError\u001b[0m\u001b[1;31m:\u001b[0m expected an indented block\n"
     ]
    }
   ],
   "source": [
    "def first_position(nums , target):\n",
    "    def condition(mid):\n",
    "        if nums[mid] == target: \n",
    "            if mid > 0 and nums[mid - 1] == target:\n",
    "                return \"left\"\n",
    "            return 'found'\n",
    "        \n",
    "        elif nums[mid]  < target: \n",
    "            return 'right'\n",
    "        else: \n",
    "            return 'left'\n",
    "    \n",
    "    return binary_search(0 , len(nums)-1 , condition)\n",
    "\n",
    "\n",
    "def last_position(nums , target):\n",
    "    def condition(mid):\n",
    "        if nums[mid] == target: \n",
    "            if mid < len(nums)-1 and nums[mid+1] == target: \n",
    "                return 'right'\n",
    "            return 'found'\n",
    "        \n",
    "        elif nums[mid] < target:\n",
    "            \n",
    "            return 'right'\n",
    "        \n",
    "        else: \n",
    "            return \"left\"\n",
    "        \n",
    "        return binary_search(0 , len(nums) - 1  , condition)\n",
    "\n",
    "def first_and_last_position(nums , target):\n",
    "    return first_position(nums , target) , last_position(nums , target)"
   ]
  },
  {
   "cell_type": "code",
   "execution_count": null,
   "metadata": {},
   "outputs": [],
   "source": []
  }
 ],
 "metadata": {
  "kernelspec": {
   "display_name": "Yolo_object",
   "language": "python",
   "name": "python3"
  },
  "language_info": {
   "codemirror_mode": {
    "name": "ipython",
    "version": 3
   },
   "file_extension": ".py",
   "mimetype": "text/x-python",
   "name": "python",
   "nbconvert_exporter": "python",
   "pygments_lexer": "ipython3",
   "version": "3.9.18"
  }
 },
 "nbformat": 4,
 "nbformat_minor": 2
}
