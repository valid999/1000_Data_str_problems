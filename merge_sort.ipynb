{
 "cells": [
  {
   "cell_type": "code",
   "execution_count": 3,
   "metadata": {},
   "outputs": [
    {
     "name": "stdout",
     "output_type": "stream",
     "text": [
      "[10, 12, 41, 47, 64]\n"
     ]
    }
   ],
   "source": [
    "def merge_sort(list):\n",
    "    \"\"\"\n",
    "    sorts a list in ascending order\n",
    "    Returning a new sorted list   \n",
    "    \n",
    "    Divide: Find the midpoint of the list and divide into sublists\n",
    "    conquer: Recursively sort sublists created in previous step\n",
    "    combine: Merge the sorted sublists created in previous step \n",
    "    \"\"\"\n",
    "    \n",
    "    if len(list) <= 1: \n",
    "        return list \n",
    "    \n",
    "    left_half , right_half  = split(list)\n",
    "    left  = merge_sort(left_half)\n",
    "    right = merge_sort(right_half)\n",
    "    \n",
    "    return merge(left , right)\n",
    "\n",
    "def split(list):\n",
    "\n",
    "    \"\"\"\n",
    "    Divide the unsorted list at midpoint into sublists\n",
    "    Returns two sublists left and right \n",
    "    \"\"\"\n",
    "\n",
    "    mid = len(list) // 2 \n",
    "    left = list[:mid]\n",
    "    right = list[mid:]\n",
    "\n",
    "    return left , right \n",
    "\n",
    "def merge(left , right):\n",
    "\n",
    "    \"\"\"\n",
    "    Merge two lists (arrays) , sorting them in the process\n",
    "    Returns a new merged list \n",
    "    \"\"\"\n",
    "\n",
    "    l = []\n",
    "    i = 0\n",
    "    j = 0\n",
    "\n",
    "    while i < len(left)  and j < len(right):\n",
    "        if left[i]  < right[j]: \n",
    "            l.append(left[i])\n",
    "            i += 1 \n",
    "        else: \n",
    "            l.append(right[j])\n",
    "            j +=1\n",
    "    while i < len(left):\n",
    "        l.append(left[i])\n",
    "        i+=1\n",
    "\n",
    "    while j < len(right):\n",
    "        l.append(right[j])\n",
    "        j+=1\n",
    "    return l\n",
    "alist = [41 , 12 , 47 , 64 , 10]\n",
    "l = merge_sort(alist)\n",
    "print(l)\n",
    "\n",
    "def verify_sorted(list):\n",
    "    n = len(list)\n",
    "\n",
    "    if n == 0 or n == 1: \n",
    "        return True\n",
    "\n",
    "    return list[0] < list[1] and verify_sorted(list[1:])\n"
   ]
  },
  {
   "cell_type": "code",
   "execution_count": 4,
   "metadata": {},
   "outputs": [
    {
     "data": {
      "text/plain": [
       "True"
      ]
     },
     "execution_count": 4,
     "metadata": {},
     "output_type": "execute_result"
    }
   ],
   "source": [
    "verify_sorted(l)"
   ]
  },
  {
   "cell_type": "code",
   "execution_count": 6,
   "metadata": {},
   "outputs": [
    {
     "name": "stdout",
     "output_type": "stream",
     "text": [
      "Merged and Sorted list: [1, 2, 3, 4, 5, 6, 7, 8]\n"
     ]
    }
   ],
   "source": [
    "def merge_sorted_lists(list1 , list2):\n",
    "    # Initialize pointers for both lists\n",
    "    \n",
    "    i , j  = 0 , 0 # pointers for traversing \n",
    "    merged_list = []\n",
    "    \n",
    "    # Merge the lists until one of them is exhausted \n",
    "    while i < len(list1) and j < len(list2):\n",
    "        if list1[i] < list2[j]:\n",
    "            merged_list.append(list1[i])\n",
    "            i += 1 \n",
    "        else: \n",
    "            merged_list.append(list2[j])\n",
    "            j += 1\n",
    "    \n",
    "    \n",
    "    # Add remaining elements of lists of list1, if any \n",
    "    while i < len(list1):\n",
    "        merged_list.append(list1[i])\n",
    "        i += 1\n",
    "    \n",
    "    # Add remaining elements of list1 , if any \n",
    "    \n",
    "    while i < len(list1):\n",
    "        merged_list.append(list1[i])\n",
    "        i += 1 \n",
    "    \n",
    "    # Add remaining elements of list2 if any \n",
    "    while j < len(list2):\n",
    "        merged_list.append(list2[j])\n",
    "        j += 1\n",
    "    \n",
    "    return merged_list\n",
    "\n",
    "\n",
    "# Example usage \n",
    "list1 = [1 , 3 , 5 , 7]\n",
    "list2 = [2 , 4 , 6 , 8]\n",
    "sorted_list = merge_sorted_lists(list1 , list2)\n",
    "print(\"Merged and Sorted list:\", sorted_list)"
   ]
  },
  {
   "cell_type": "code",
   "execution_count": 8,
   "metadata": {},
   "outputs": [
    {
     "name": "stdout",
     "output_type": "stream",
     "text": [
      "Sorted list: [3, 9, 10, 27, 38, 43, 82]\n"
     ]
    }
   ],
   "source": [
    "# Recursive merge sort the algorithm for sorting a single list . merge , so \n",
    "# Recursively sorting each half, ande then memrging the sorted halves. \n",
    "# merge and sorted halves \n",
    "# Using the recursion function \n",
    "\n",
    "\n",
    "def merge_sort(lst):\n",
    "    if len(lst) <= 1:\n",
    "        return lst\n",
    "    \n",
    "    \n",
    "    # Divide the list into two halves \n",
    "    mid = len(lst) // 2 \n",
    "    left_half = lst[:mid]\n",
    "    right_half  = lst[mid:]\n",
    "    \n",
    "    \n",
    "    # Recursively sort each half \n",
    "    left_sorted = merge_sort(left_half)\n",
    "    right_sorted = merge_sort(right_half)\n",
    "    \n",
    "    # Merge the sorted halves \n",
    "    return merge(left_sorted , right_sorted)\n",
    "\n",
    "def merge(left , right):\n",
    "    \n",
    "    sorted_list = []\n",
    "    i = j = 0\n",
    "    \n",
    "    \n",
    "    # Merge the two lists\n",
    "    while i < len(left) and j < len(right):\n",
    "        if left[i] < right[j]:\n",
    "            sorted_list.append(left[i])\n",
    "            i += 1\n",
    "        else:\n",
    "            sorted_list.append(right[j])\n",
    "            j += 1\n",
    "    \n",
    "    \n",
    "    # Append any remaning elements from the left list \n",
    "    while i < len(left):\n",
    "        \n",
    "        sorted_list.append(left[i])\n",
    "        i += 1\n",
    "    \n",
    "    # Append any remaining elemnets from the right list \n",
    "    while j < len(right):\n",
    "        sorted_list.append(right[j])\n",
    "        j += 1\n",
    "    \n",
    "    return sorted_list \n",
    "\n",
    "\n",
    "unsorted_list = [38, 27, 43, 3, 9, 82, 10]\n",
    "sorted_list = merge_sort(unsorted_list)\n",
    "print(\"Sorted list:\" , sorted_list)\n"
   ]
  },
  {
   "cell_type": "markdown",
   "metadata": {},
   "source": [
    "**Linked list with the merge**"
   ]
  },
  {
   "cell_type": "code",
   "execution_count": null,
   "metadata": {},
   "outputs": [],
   "source": []
  }
 ],
 "metadata": {
  "kernelspec": {
   "display_name": "kidney",
   "language": "python",
   "name": "python3"
  },
  "language_info": {
   "codemirror_mode": {
    "name": "ipython",
    "version": 3
   },
   "file_extension": ".py",
   "mimetype": "text/x-python",
   "name": "python",
   "nbconvert_exporter": "python",
   "pygments_lexer": "ipython3",
   "version": "3.8.18"
  }
 },
 "nbformat": 4,
 "nbformat_minor": 2
}
