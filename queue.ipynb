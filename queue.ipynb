{
 "cells": [
  {
   "cell_type": "code",
   "execution_count": 1,
   "metadata": {},
   "outputs": [],
   "source": [
    "with_stock_price_queue = []"
   ]
  },
  {
   "cell_type": "code",
   "execution_count": 3,
   "metadata": {},
   "outputs": [],
   "source": [
    "with_stock_price_queue.insert(0,132.10)\n",
    "with_stock_price_queue.insert(0,132.12)\n",
    "with_stock_price_queue.insert(0,132)"
   ]
  },
  {
   "cell_type": "code",
   "execution_count": 13,
   "metadata": {},
   "outputs": [
    {
     "data": {
      "text/plain": [
       "[132, 132.12, 132.1]"
      ]
     },
     "execution_count": 13,
     "metadata": {},
     "output_type": "execute_result"
    }
   ],
   "source": [
    "with_stock_price_queue"
   ]
  },
  {
   "cell_type": "code",
   "execution_count": 14,
   "metadata": {},
   "outputs": [
    {
     "data": {
      "text/plain": [
       "[132, 132.12, 132.1]"
      ]
     },
     "execution_count": 14,
     "metadata": {},
     "output_type": "execute_result"
    }
   ],
   "source": [
    "with_stock_price_queue"
   ]
  },
  {
   "cell_type": "code",
   "execution_count": 15,
   "metadata": {},
   "outputs": [],
   "source": [
    "from collections import deque \n",
    "q = deque()"
   ]
  },
  {
   "cell_type": "code",
   "execution_count": 16,
   "metadata": {},
   "outputs": [],
   "source": [
    "q.appendleft(5)"
   ]
  },
  {
   "cell_type": "code",
   "execution_count": 17,
   "metadata": {},
   "outputs": [],
   "source": [
    "q.appendleft(5)\n",
    "q.appendleft(8)\n",
    "q.appendleft(27)"
   ]
  },
  {
   "cell_type": "code",
   "execution_count": 21,
   "metadata": {},
   "outputs": [
    {
     "data": {
      "text/plain": [
       "27"
      ]
     },
     "execution_count": 21,
     "metadata": {},
     "output_type": "execute_result"
    }
   ],
   "source": [
    "q.pop()"
   ]
  },
  {
   "cell_type": "markdown",
   "metadata": {},
   "source": [
    "**Queue Algorithms** "
   ]
  },
  {
   "cell_type": "code",
   "execution_count": 22,
   "metadata": {},
   "outputs": [],
   "source": [
    "# Enqueue Algorithm (Arry-based)\n",
    "\n",
    "def enqueue(queue , element):\n",
    "    if len(queue) == max_size:\n",
    "        print(\"Queue is full\")\n",
    "    else: \n",
    "\n",
    "        queue.append(element)"
   ]
  },
  {
   "cell_type": "code",
   "execution_count": 23,
   "metadata": {},
   "outputs": [],
   "source": [
    "# 2 Dequene Algorithm (Array-based)\n",
    "\n",
    "def dequeue(queue):\n",
    "    if not queue: \n",
    "        print(\"Queue is empty\")\n",
    "        return None\n",
    "    else: \n",
    "        return queue.pop(0)"
   ]
  },
  {
   "cell_type": "code",
   "execution_count": 24,
   "metadata": {},
   "outputs": [],
   "source": [
    "# 3 Enqueue Algorithm (Linked List-based)\n",
    "\n",
    "class Node:\n",
    "    def __init__(self , data):\n",
    "        self.data = data \n",
    "        self.next = None \n",
    "\n",
    "\n",
    "class Queue: \n",
    "    def __init__(self):\n",
    "        self.front  = self.rear = None\n",
    "    \n",
    "    def enqueue(self , element):\n",
    "        new_node  = Node(element)\n",
    "        if self.rear is None: \n",
    "            self.front = self.rear = new_node \n",
    "            return \n",
    "        self.rear.next = new_node \n",
    "        self.rear = new_node "
   ]
  },
  {
   "cell_type": "code",
   "execution_count": 26,
   "metadata": {},
   "outputs": [],
   "source": [
    "# 4. Dequeue Algorithm (Linked LIst based)\n",
    "\n",
    "class Queue: \n",
    "    def __init__(self):\n",
    "        self.front = self.rear = None \n",
    "        \n",
    "    def dequeue(self):\n",
    "        if self.front is None: \n",
    "            print(\"Queue is empty\")\n",
    "            return None \n",
    "        temp  = self.front\n",
    "        self.front = temp.next \n",
    "        if self.front is None: \n",
    "            self.rear is None \n",
    "        return temp.data"
   ]
  },
  {
   "cell_type": "code",
   "execution_count": 27,
   "metadata": {},
   "outputs": [],
   "source": [
    "# Task Scheduling - Breadth - First Search - Buffer Mangement - print - resource sharing \n",
    "# Implement queue class using collections.deque\n",
    "\n",
    "\n",
    "from collections import deque\n",
    "\n",
    "class Queue: \n",
    "    \n",
    "    def __init__(self):\n",
    "        self.buffer  = deque()\n",
    "    \n",
    "    def enqueue(self , val):\n",
    "        self.buffer.appendleft(val)\n",
    "    \n",
    "    def dequeue(self):\n",
    "        return self.buffer.pop()\n",
    "    \n",
    "    def is_empty(self):\n",
    "        return len(self.buffer)==0\n",
    "    \n",
    "    def size(self):\n",
    "        return len(self.buffer)\n",
    "\n"
   ]
  },
  {
   "cell_type": "code",
   "execution_count": 34,
   "metadata": {},
   "outputs": [],
   "source": [
    "pq = Queue()\n",
    "\n",
    "pq.enqueue({\n",
    "    'company': 'Wall Mart', \n",
    "    'timestamp': '15 apr , 11.01AM',\n",
    "    'price': 132.10\n",
    "})\n",
    "\n",
    "pq.enqueue({\n",
    "    'company': 'What Mart',\n",
    "    'timestamp': '15 apr, 11.02 AM',\n",
    "    'price':123\n",
    "})\n",
    "\n",
    "pq.enqueue({\n",
    "    'company': 'wall Mart', \n",
    "    'timestamp': '15 apr , 11.03 AM',\n",
    "    'price': 135\n",
    "})\n",
    "pq.enqueue({\n",
    "    'company': 'wall Mart', \n",
    "    'timestamp': '15 apr , 11.04 AM',\n",
    "    'price': 133\n",
    "})"
   ]
  },
  {
   "cell_type": "code",
   "execution_count": 35,
   "metadata": {},
   "outputs": [
    {
     "data": {
      "text/plain": [
       "4"
      ]
     },
     "execution_count": 35,
     "metadata": {},
     "output_type": "execute_result"
    }
   ],
   "source": [
    "pq.size()"
   ]
  },
  {
   "cell_type": "code",
   "execution_count": 36,
   "metadata": {},
   "outputs": [
    {
     "data": {
      "text/plain": [
       "{'company': 'Wall Mart', 'timestamp': '15 apr , 11.01AM', 'price': 132.1}"
      ]
     },
     "execution_count": 36,
     "metadata": {},
     "output_type": "execute_result"
    }
   ],
   "source": [
    "pq.dequeue()"
   ]
  },
  {
   "cell_type": "code",
   "execution_count": 37,
   "metadata": {},
   "outputs": [
    {
     "data": {
      "text/plain": [
       "{'company': 'What Mart', 'timestamp': '15 apr, 11.02 AM', 'price': 123}"
      ]
     },
     "execution_count": 37,
     "metadata": {},
     "output_type": "execute_result"
    }
   ],
   "source": [
    "pq.dequeue()"
   ]
  },
  {
   "cell_type": "code",
   "execution_count": 38,
   "metadata": {},
   "outputs": [
    {
     "data": {
      "text/plain": [
       "{'company': 'wall Mart', 'timestamp': '15 apr , 11.03 AM', 'price': 135}"
      ]
     },
     "execution_count": 38,
     "metadata": {},
     "output_type": "execute_result"
    }
   ],
   "source": [
    "pq.dequeue()"
   ]
  },
  {
   "cell_type": "code",
   "execution_count": 39,
   "metadata": {},
   "outputs": [
    {
     "data": {
      "text/plain": [
       "{'company': 'wall Mart', 'timestamp': '15 apr , 11.04 AM', 'price': 133}"
      ]
     },
     "execution_count": 39,
     "metadata": {},
     "output_type": "execute_result"
    }
   ],
   "source": [
    "pq.dequeue()"
   ]
  },
  {
   "cell_type": "code",
   "execution_count": 42,
   "metadata": {},
   "outputs": [
    {
     "data": {
      "text/plain": [
       "<__main__.Queue at 0x15dae0a66a0>"
      ]
     },
     "execution_count": 42,
     "metadata": {},
     "output_type": "execute_result"
    }
   ],
   "source": [
    "pq"
   ]
  },
  {
   "cell_type": "code",
   "execution_count": null,
   "metadata": {},
   "outputs": [],
   "source": []
  }
 ],
 "metadata": {
  "kernelspec": {
   "display_name": "Yolo_object",
   "language": "python",
   "name": "python3"
  },
  "language_info": {
   "codemirror_mode": {
    "name": "ipython",
    "version": 3
   },
   "file_extension": ".py",
   "mimetype": "text/x-python",
   "name": "python",
   "nbconvert_exporter": "python",
   "pygments_lexer": "ipython3",
   "version": "3.9.18"
  }
 },
 "nbformat": 4,
 "nbformat_minor": 2
}
