{
 "cells": [
  {
   "cell_type": "code",
   "execution_count": 69,
   "metadata": {},
   "outputs": [],
   "source": [
    "import sys \n",
    "# from load import load_numbers \n",
    "# numbers = load_numbers(sys.argv[1])\n",
    "\n",
    "\n",
    "def quicksort(values):\n",
    "    \n",
    "    if len(values) <= 1:\n",
    "        return values\n",
    "    \n",
    "    less_than_pivot = []\n",
    "    \n",
    "    greater_than_pivot = []\n",
    "    \n",
    "    pivot = values[0]\n",
    "\n",
    "    for value in values[1:]:\n",
    "        if value in less_than_pivot or value in greater_than_pivot: \n",
    "                del value\n",
    "\n",
    "        # if pivot in greater_than_pivot: \n",
    "        #     del pivot\n",
    "\n",
    "        elif value <= pivot: \n",
    "            less_than_pivot.append(value)\n",
    "            # if value in less_than_pivot: \n",
    "            #     del value\n",
    "\n",
    "        else: \n",
    "            greater_than_pivot.append(value)\n",
    "            # if value in greater_than_pivot: \n",
    "            #     del value\n",
    "        # if pivot in  greater_than_pivot or pivot in less_than_pivot:\n",
    "        #     del  pivot\n",
    "\n",
    "    return quicksort(less_than_pivot)  + [pivot] + quicksort(greater_than_pivot)"
   ]
  },
  {
   "cell_type": "code",
   "execution_count": 70,
   "metadata": {},
   "outputs": [
    {
     "name": "stdout",
     "output_type": "stream",
     "text": [
      "[1, 2, 3, 4, 5, 6, 11, 11, 22, 33]\n"
     ]
    }
   ],
   "source": [
    "numbers = [11 , 22 , 22 , 33 , 11 , 2 , 3 , 4 , 1 , 2 , 3 , 4 , 5 , 6 ]\n",
    "sorted_numbers = quicksort(numbers)\n",
    "print(sorted_numbers)"
   ]
  },
  {
   "cell_type": "code",
   "execution_count": 74,
   "metadata": {},
   "outputs": [
    {
     "name": "stdout",
     "output_type": "stream",
     "text": [
      "[2, 3, 4, 11, 11, 22, 22, 33]\n"
     ]
    }
   ],
   "source": [
    "# Merge sort implementation \n",
    "# import sys \n",
    "# from load import load_numbers \n",
    "\n",
    "\n",
    "# numbers = load_numbers(sys.argv[1])\n",
    "\n",
    "numbers = [11 , 22 , 22 , 33 , 11 , 2 , 3 , 4 ]\n",
    "def merge_sort(values):\n",
    "    if len(values) <= 1: \n",
    "        return values\n",
    "\n",
    "    middle_index = len(values) // 2\n",
    "    left_values  = merge_sort(values[:middle_index])\n",
    "    right_values  = merge_sort(values[middle_index:])\n",
    "    sorted_values = []\n",
    "    left_index = 0 \n",
    "    right_index = 0 \n",
    "\n",
    "    while left_index < len(left_values) and right_index < len(right_values):\n",
    "        \n",
    "        if left_values[left_index] < right_values[right_index]:\n",
    "            \n",
    "            sorted_values.append(left_values[left_index])\n",
    "            # Then move to the next value in the second half of the list \n",
    "            left_index += 1 \n",
    "\n",
    "        # Otherwise , the current values from the right half must have been  \n",
    "        # Lower \n",
    "        else: \n",
    "            \n",
    "            sorted_values.append(right_values[right_index])\n",
    "            right_index += 1 \n",
    "\n",
    "    sorted_values += left_values[left_index:]\n",
    "    sorted_values += right_values[right_index:]\n",
    "    \n",
    "    return sorted_values \n",
    "\n",
    "\n",
    "\n",
    "# Finally, we need to kick the whole process off. we will call the merge sort funvction with the lsit of numbers we loaded, and print() the result.\n",
    "print(merge_sort(numbers))"
   ]
  },
  {
   "cell_type": "code",
   "execution_count": null,
   "metadata": {},
   "outputs": [],
   "source": []
  },
  {
   "cell_type": "code",
   "execution_count": null,
   "metadata": {},
   "outputs": [],
   "source": []
  }
 ],
 "metadata": {
  "kernelspec": {
   "display_name": "Yolo_object",
   "language": "python",
   "name": "python3"
  },
  "language_info": {
   "codemirror_mode": {
    "name": "ipython",
    "version": 3
   },
   "file_extension": ".py",
   "mimetype": "text/x-python",
   "name": "python",
   "nbconvert_exporter": "python",
   "pygments_lexer": "ipython3",
   "version": "3.9.18"
  }
 },
 "nbformat": 4,
 "nbformat_minor": 2
}
