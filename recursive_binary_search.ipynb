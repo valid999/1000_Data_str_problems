{
 "cells": [
  {
   "cell_type": "code",
   "execution_count": 3,
   "metadata": {},
   "outputs": [
    {
     "name": "stdout",
     "output_type": "stream",
     "text": [
      "target found with tries number\n",
      "Target found True\n"
     ]
    }
   ],
   "source": [
    "def recursive_bianry_search(list , target):\n",
    "    \n",
    "    if len(list) == 0: \n",
    "        return False \n",
    "    \n",
    "    else: \n",
    "        midpoint = (len(list)) // 2 \n",
    "        \n",
    "        if list[midpoint] == target: \n",
    "            return True\n",
    "        else: \n",
    "            if list[midpoint] < target: \n",
    "                return recursive_bianry_search(list[midpoint+1:] , target)\n",
    "            else: \n",
    "                return recursive_bianry_search(list[:midpoint] , target)\n",
    "\n",
    "def verify(result):\n",
    "    print(\"Target found\" , result)\n",
    "\n",
    "numbers = [1,2,3,4,5,6,7,8,9]\n",
    "result = recursive_bianry_search(numbers , 6)\n",
    "verify(result)"
   ]
  },
  {
   "cell_type": "code",
   "execution_count": 4,
   "metadata": {},
   "outputs": [
    {
     "name": "stdout",
     "output_type": "stream",
     "text": [
      "120\n"
     ]
    }
   ],
   "source": [
    "def fibonacci(n):\n",
    "    if n == 0 or n == 1: \n",
    "        return 1 \n",
    "    \n",
    "    else: \n",
    "        return n * fibonacci(n-1)\n",
    "    \n",
    "print(fibonacci(5))"
   ]
  },
  {
   "cell_type": "code",
   "execution_count": 6,
   "metadata": {},
   "outputs": [
    {
     "name": "stdout",
     "output_type": "stream",
     "text": [
      "Move disk 1 from A to C\n",
      "move disk 2 from B to C\n",
      "Move disk 1 from A to C\n",
      "move disk 3 from A to C\n",
      "Move disk 1 from A to C\n",
      "move disk 2 from B to C\n",
      "Move disk 1 from A to C\n"
     ]
    }
   ],
   "source": [
    "def tower_of_hanoi(n , source , target , auxiliary):\n",
    "    \n",
    "    # Base case : if only one disk , move it from source to target \n",
    "    if n == 1: \n",
    "        print(f\"Move disk 1 from {source} to {target}\")\n",
    "        return \n",
    "    \n",
    "    # Recursive case: Move top n-1 disks from source to auxiliary \n",
    "    tower_of_hanoi(n - 1 , auxiliary , target  , source)\n",
    "    \n",
    "    print(f\"move disk {n} from {source} to {target}\")\n",
    "    \n",
    "    # Move the n-1 disks from auxiliary to target\n",
    "    tower_of_hanoi(n-1 , auxiliary , target , source)\n",
    "    \n",
    "\n",
    "n  = 3\n",
    "tower_of_hanoi(n , 'A' , 'C' , 'B')"
   ]
  },
  {
   "cell_type": "code",
   "execution_count": 8,
   "metadata": {},
   "outputs": [
    {
     "name": "stdout",
     "output_type": "stream",
     "text": [
      "[1, 2, 3]\n",
      "[1, 3, 2]\n",
      "[2, 1, 3]\n",
      "[2, 3, 1]\n",
      "[3, 1, 2]\n",
      "[3, 2, 1]\n"
     ]
    }
   ],
   "source": [
    "# Python  implementation \n",
    "\n",
    "def permute(nums):\n",
    "    \n",
    "    if len(nums) == 0:\n",
    "        return []\n",
    "    \n",
    "    if len(nums) == 1: \n",
    "        return [nums]\n",
    "    \n",
    "    \n",
    "    # Recursive case: generate permutations for lists longer than one elemnt\n",
    "    result = []\n",
    "    for i in range(len(nums)):\n",
    "        \n",
    "        # Extract the current elements \n",
    "        current = nums[i]\n",
    "        \n",
    "        # Generate the remainignv list after removing the cureent element \n",
    "        reamining = nums[:i] + nums[i+1:]\n",
    "        \n",
    "        \n",
    "        # Generate all permutations for the reamiwning list \n",
    "        for p in permute(reamining):\n",
    "            result.append([current] + p)\n",
    "        \n",
    "    \n",
    "    return result \n",
    "\n",
    "# Example usage \n",
    "nums  = [1 , 2 , 3]\n",
    "permutations = permute(nums)\n",
    "for p in permutations: \n",
    "    print(p)"
   ]
  },
  {
   "cell_type": "code",
   "execution_count": 9,
   "metadata": {},
   "outputs": [],
   "source": [
    "nums  = [1 ,2 , 3]\n",
    "i = 1 \n",
    "reamining  = nums[:i] + nums[i+1 : ]"
   ]
  },
  {
   "cell_type": "code",
   "execution_count": null,
   "metadata": {},
   "outputs": [],
   "source": []
  }
 ],
 "metadata": {
  "kernelspec": {
   "display_name": "kidney",
   "language": "python",
   "name": "python3"
  },
  "language_info": {
   "codemirror_mode": {
    "name": "ipython",
    "version": 3
   },
   "file_extension": ".py",
   "mimetype": "text/x-python",
   "name": "python",
   "nbconvert_exporter": "python",
   "pygments_lexer": "ipython3",
   "version": "3.8.18"
  }
 },
 "nbformat": 4,
 "nbformat_minor": 2
}
